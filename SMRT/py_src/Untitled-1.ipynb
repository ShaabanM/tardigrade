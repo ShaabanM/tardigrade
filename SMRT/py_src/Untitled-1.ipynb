{
 "cells": [
  {
   "cell_type": "code",
   "execution_count": 1,
   "metadata": {},
   "outputs": [],
   "source": [
    "#############################################################\n",
    "#IMPORT MODULES\n",
    "#############################################################\n",
    "import os\n",
    "import csv\n",
    "import sys\n",
    "import time\n",
    "import pandas as pd\n",
    "import matplotlib.pyplot as plt"
   ]
  },
  {
   "cell_type": "code",
   "execution_count": 2,
   "metadata": {},
   "outputs": [
    {
     "name": "stdout",
     "output_type": "stream",
     "text": [
      "\n",
      "Loading: disk\n",
      "Error: failed to load disk data!\n"
     ]
    }
   ],
   "source": [
    "def find_and_load_data(keyword):\n",
    "\n",
    "    print(\"\\nLoading: \" + keyword)\n",
    "\n",
    "    # list data\n",
    "    dir_list = os.listdir('../data')\n",
    "    dir_list.sort()\n",
    "    if len(dir_list) > 1:\n",
    "        try: dir_list.remove('demo')\n",
    "        except: pass\n",
    "    data_dir = dir_list[-1]\n",
    "\n",
    "    print(\"Using folder: \" + str(os.path.join('..','data',data_dir)))\n",
    "    data_file_list = os.listdir(os.path.join('..','data',data_dir))\n",
    "\n",
    "    the_files = []\n",
    "    for filename in data_file_list:\n",
    "        if keyword in filename: the_files+=[filename]\n",
    "\n",
    "    the_data = []\n",
    "    for filename in the_files:\n",
    "        df = pd.read_csv(os.path.join('..','data',data_dir,filename))\n",
    "        the_data+= [df]\n",
    "\n",
    "    result = pd.concat(the_data)\n",
    "    result.sort_values(by=['time'], inplace=True)\n",
    "\n",
    "    return result\n",
    "\n",
    "try:\n",
    "    disk_data = find_and_load_data(\"disk\")\n",
    "    disk_data_status = True\n",
    "except:\n",
    "    disk_data_status = False\n",
    "    print('Error: failed to load disk data!')"
   ]
  },
  {
   "cell_type": "code",
   "execution_count": 3,
   "metadata": {},
   "outputs": [
    {
     "data": {
      "text/plain": [
       "'/home/mshaaban/luvs/tardigrade'"
      ]
     },
     "execution_count": 3,
     "metadata": {},
     "output_type": "execute_result"
    }
   ],
   "source": [
    "pwd"
   ]
  },
  {
   "cell_type": "code",
   "execution_count": null,
   "metadata": {},
   "outputs": [],
   "source": []
  }
 ],
 "metadata": {
  "interpreter": {
   "hash": "71aa0ee242bb216c204e7638188241e6bc32b0c1f43fa532b2d9fd02a88fda61"
  },
  "kernelspec": {
   "display_name": "Python 3.8.12 64-bit ('base': conda)",
   "language": "python",
   "name": "python3"
  },
  "language_info": {
   "codemirror_mode": {
    "name": "ipython",
    "version": 3
   },
   "file_extension": ".py",
   "mimetype": "text/x-python",
   "name": "python",
   "nbconvert_exporter": "python",
   "pygments_lexer": "ipython3",
   "version": "3.8.12"
  },
  "orig_nbformat": 4
 },
 "nbformat": 4,
 "nbformat_minor": 2
}
