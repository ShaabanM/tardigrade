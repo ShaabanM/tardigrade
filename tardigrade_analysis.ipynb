{
 "cells": [
  {
   "cell_type": "markdown",
   "metadata": {},
   "source": [
    "# TARDIGRADE Analysis"
   ]
  },
  {
   "cell_type": "code",
   "execution_count": 1,
   "metadata": {},
   "outputs": [],
   "source": [
    "import getpass\n",
    "import sys\n",
    "import os\n",
    "if getpass.getuser() == 'mshaaban':\n",
    "    from jupyterthemes import jtplot\n",
    "    jtplot.style(theme='monokai')\n",
    "    jtplot.style(ticks=True, grid=False, figsize=(8, 4.5))\n",
    "import numpy as np\n",
    "import matplotlib.pyplot as plt\n",
    "import matplotlib as mpl\n",
    "from astropy import units as u\n",
    "from astropy import constants as const\n",
    "import pandas as pd\n",
    "from functools import reduce"
   ]
  },
  {
   "cell_type": "code",
   "execution_count": 2,
   "metadata": {},
   "outputs": [],
   "source": [
    "base_path = \"/run/user/1000/gvfs/sftp:host=galadriel.astro.utoronto.ca,user=mshaaban/data2/john/tardigrade/\""
   ]
  },
  {
   "cell_type": "markdown",
   "metadata": {},
   "source": [
    "## Setup"
   ]
  },
  {
   "cell_type": "markdown",
   "metadata": {},
   "source": [
    "### Notes\n",
    "Here we present a tool to use to quickly look up notes on what was going on in the experiment as a function of time."
   ]
  },
  {
   "cell_type": "code",
   "execution_count": 3,
   "metadata": {},
   "outputs": [],
   "source": [
    "notes = pd.read_csv(base_path+\"notes.csv\")\n",
    "\n",
    "def get_note(time,n=3):\n",
    "    \"\"\"A function that given a unix time stamp will return the n notes nearest to it in time\"\"\"\n",
    "    args = (notes['Unix Timestamp'] - time).abs().argsort()[:n]\n",
    "    return notes.iloc[args]"
   ]
  },
  {
   "cell_type": "markdown",
   "metadata": {},
   "source": [
    "#### Sample Usage\n",
    "- Begin by plotting beam power as a function of time. We idnetify interesting feature e.g. prolonged low power area around 1.65505e9.\n",
    "- use `get_note(time,number of notes to show)` to get some notes nearest to the time of interest\n",
    "- use `get_note()['Notes'][n]` to get more information on the nth note where n is the index in the table NOT the ordered index for the given size"
   ]
  },
  {
   "cell_type": "code",
   "execution_count": 4,
   "metadata": {},
   "outputs": [
    {
     "data": {
      "image/png": "[encoded data removed]",
      "text/plain": [
       "<Figure size 460.8x259.2 with 1 Axes>"
      ]
     },
     "metadata": {},
     "output_type": "display_data"
    }
   ],
   "source": [
    "plt.plot(notes[\"Unix Timestamp\"], notes[\"Beam Current [nA]\"],'.')\n",
    "plt.title(\"Beam Power Througout the Experiment\")\n",
    "plt.ylabel(\"Beam Curren [nA]\")\n",
    "plt.xlabel(\"Unix Time\");"
   ]
  },
  {
   "cell_type": "code",
   "execution_count": 5,
   "metadata": {},
   "outputs": [
    {
     "data": {
      "text/html": [
       "<div>\n",
       "<style scoped>\n",
       "    .dataframe tbody tr th:only-of-type {\n",
       "        vertical-align: middle;\n",
       "    }\n",
       "\n",
       "    .dataframe tbody tr th {\n",
       "        vertical-align: top;\n",
       "    }\n",
       "\n",
       "    .dataframe thead th {\n",
       "        text-align: right;\n",
       "    }\n",
       "</style>\n",
       "<table border=\"1\" class=\"dataframe\">\n",
       "  <thead>\n",
       "    <tr style=\"text-align: right;\">\n",
       "      <th></th>\n",
       "      <th>Device</th>\n",
       "      <th>Short Name</th>\n",
       "      <th>Type of Test</th>\n",
       "      <th>Date</th>\n",
       "      <th>Time [PST]</th>\n",
       "      <th>Unix Timestamp</th>\n",
       "      <th>Notes</th>\n",
       "      <th>Beam Current [nA]</th>\n",
       "      <th>Scale Factor</th>\n",
       "    </tr>\n",
       "  </thead>\n",
       "  <tbody>\n",
       "    <tr>\n",
       "      <th>142</th>\n",
       "      <td>Power Switching Relay Board - custom</td>\n",
       "      <td>psrb</td>\n",
       "      <td>Slow aging to 1650 rad</td>\n",
       "      <td>June 12, 2022</td>\n",
       "      <td>16:23</td>\n",
       "      <td>1655050980</td>\n",
       "      <td>locking up and requesting 2nA =&gt; 500 count/s</td>\n",
       "      <td>2.0</td>\n",
       "      <td>1</td>\n",
       "    </tr>\n",
       "    <tr>\n",
       "      <th>141</th>\n",
       "      <td>USB to serial converter - FTDI chip</td>\n",
       "      <td>usb2serial</td>\n",
       "      <td>Slow aging to 1650 rad</td>\n",
       "      <td>June 12, 2022</td>\n",
       "      <td>15:46</td>\n",
       "      <td>1655048760</td>\n",
       "      <td>Go up to 6 nA  =&gt; 1500 count/s\\r\\nCompletely f...</td>\n",
       "      <td>6.0</td>\n",
       "      <td>1</td>\n",
       "    </tr>\n",
       "    <tr>\n",
       "      <th>143</th>\n",
       "      <td>Power Switching Relay Board - custom</td>\n",
       "      <td>psrb</td>\n",
       "      <td>Slow aging to 1650 rad</td>\n",
       "      <td>June 12, 2022</td>\n",
       "      <td>16:30</td>\n",
       "      <td>1655051400</td>\n",
       "      <td>Shutter open beam started \\r\\nBoring so far 2 ...</td>\n",
       "      <td>2.0</td>\n",
       "      <td>1</td>\n",
       "    </tr>\n",
       "    <tr>\n",
       "      <th>140</th>\n",
       "      <td>USB to serial converter - FTDI chip</td>\n",
       "      <td>usb2serial</td>\n",
       "      <td>Slow aging to 1650 rad</td>\n",
       "      <td>June 12, 2022</td>\n",
       "      <td>15:42</td>\n",
       "      <td>1655048520</td>\n",
       "      <td>Go up to 2 nA =&gt; 500 count /s\\r\\nNo errors up ...</td>\n",
       "      <td>2.0</td>\n",
       "      <td>1</td>\n",
       "    </tr>\n",
       "    <tr>\n",
       "      <th>144</th>\n",
       "      <td>Power Switching Relay Board - custom</td>\n",
       "      <td>psrb</td>\n",
       "      <td>Slow aging to 1650 rad</td>\n",
       "      <td>June 12, 2022</td>\n",
       "      <td>16:33</td>\n",
       "      <td>1655051580</td>\n",
       "      <td>request 6nA =&gt; 1400 count/s\\r\\nStill boring</td>\n",
       "      <td>6.0</td>\n",
       "      <td>1</td>\n",
       "    </tr>\n",
       "  </tbody>\n",
       "</table>\n",
       "</div>"
      ],
      "text/plain": [
       "                                   Device  Short Name            Type of Test  \\\n",
       "142  Power Switching Relay Board - custom        psrb  Slow aging to 1650 rad   \n",
       "141   USB to serial converter - FTDI chip  usb2serial  Slow aging to 1650 rad   \n",
       "143  Power Switching Relay Board - custom        psrb  Slow aging to 1650 rad   \n",
       "140   USB to serial converter - FTDI chip  usb2serial  Slow aging to 1650 rad   \n",
       "144  Power Switching Relay Board - custom        psrb  Slow aging to 1650 rad   \n",
       "\n",
       "              Date Time [PST]  Unix Timestamp  \\\n",
       "142  June 12, 2022      16:23      1655050980   \n",
       "141  June 12, 2022      15:46      1655048760   \n",
       "143  June 12, 2022      16:30      1655051400   \n",
       "140  June 12, 2022      15:42      1655048520   \n",
       "144  June 12, 2022      16:33      1655051580   \n",
       "\n",
       "                                                 Notes  Beam Current [nA]  \\\n",
       "142       locking up and requesting 2nA => 500 count/s                2.0   \n",
       "141  Go up to 6 nA  => 1500 count/s\\r\\nCompletely f...                6.0   \n",
       "143  Shutter open beam started \\r\\nBoring so far 2 ...                2.0   \n",
       "140  Go up to 2 nA => 500 count /s\\r\\nNo errors up ...                2.0   \n",
       "144      request 6nA => 1400 count/s\\r\\nStill boring                  6.0   \n",
       "\n",
       "     Scale Factor  \n",
       "142             1  \n",
       "141             1  \n",
       "143             1  \n",
       "140             1  \n",
       "144             1  "
      ]
     },
     "execution_count": 5,
     "metadata": {},
     "output_type": "execute_result"
    }
   ],
   "source": [
    "get_note(1.65505e9,5)"
   ]
  },
  {
   "cell_type": "code",
   "execution_count": 6,
   "metadata": {},
   "outputs": [
    {
     "data": {
      "text/plain": [
       "'Shutter open beam started \\r\\nBoring so far 2 minutes into it'"
      ]
     },
     "execution_count": 6,
     "metadata": {},
     "output_type": "execute_result"
    }
   ],
   "source": [
    "get_note(1.65505e9,5)['Notes'][143]"
   ]
  },
  {
   "cell_type": "markdown",
   "metadata": {},
   "source": [
    "## Data"
   ]
  },
  {
   "cell_type": "markdown",
   "metadata": {},
   "source": [
    "Due to the fact that each device had its own flavour of data for the most part each device will have to be handled indvisually with regards to data upload. In this section we hadle each case seprately. Due to RAM requirments we recommend you only load in the data that you need for your analysis."
   ]
  },
  {
   "cell_type": "code",
   "execution_count": 97,
   "metadata": {},
   "outputs": [],
   "source": [
    "def smart_hist(img, title=\"\", bins=10000, sigma=3, label=\"\", report=True,norm=False):\n",
    "    \"\"\"Simple tool to plot histogram of a 2D array image\n",
    "\n",
    "    Args:\n",
    "        img (1-2D array):\n",
    "            The image array\n",
    "        title (str, optional):\n",
    "            Figure title. Defaults to \"\".\n",
    "        bins (int, optional):\n",
    "            Number of bins in histogram. Defaults to 10000.\n",
    "        sigma (int, optional):\n",
    "            Sigma clipping of the x axis. Defaults to 1.\n",
    "        nfig (bool, optional):\n",
    "            If True create a new figure, if False overlay on previous figure.\n",
    "            Defaults to True.\n",
    "        label (str, optional):\n",
    "            Label of the plot if overlaying multiple figures. Defaults to \"\".\n",
    "        report (bool, optional):\n",
    "            If True report the image mean, median and std. Defaults to True.\n",
    "    \"\"\"\n",
    "    img = np.nan_to_num(img,nan=np.mean(img))\n",
    "    m = np.mean(img)\n",
    "    s = np.std(img)\n",
    "    hist, edge = np.histogram(img, bins=bins)\n",
    "    if norm:\n",
    "        hist, edge = np.histogram(img, bins=bins,density=True)\n",
    "    plt.plot(edge[1:], hist, label=label)\n",
    "    plt.xlim([m - (sigma * s), m + (sigma * s)])\n",
    "    plt.title(title)\n",
    "    plt.legend()\n",
    "    temp = sorted(hist, key=lambda x: abs(x - np.max(hist) / 2))\n",
    "    print(\"Peak =\", np.max(hist),\n",
    "          \"FWHM = \", np.abs(\n",
    "              edge[np.where(hist == temp[0])] - edge\n",
    "              [np.where(hist == temp[1])])[0],)\n",
    "    if report:\n",
    "        print(\"mean:\",m,\"median:\", np.median(img), \"std:\",s)\n",
    "        \n",
    "def read_merge_all(dflist, path, cond=lambda a : True):\n",
    "    for file in os.listdir(path):\n",
    "        if os.path.isfile(path+file):\n",
    "            if cond(file):\n",
    "                print(\"reading\",file)\n",
    "                dflist.append(pd.read_csv(path+file))\n",
    "                \n",
    "    dfs = [df.set_index('time') for df in dflist]\n",
    "    return pd.concat(dfs)"
   ]
  },
  {
   "cell_type": "markdown",
   "metadata": {},
   "source": [
    "### Arduino"
   ]
  },
  {
   "cell_type": "code",
   "execution_count": 56,
   "metadata": {},
   "outputs": [],
   "source": [
    "def load_ard_data(path,df=None):\n",
    "    \"\"\"Function to load arduino data spit out by the reader script and turn it into a usable pandas data frame\"\"\"\n",
    "    if df is None:\n",
    "        # create temporary data frame\n",
    "        df = pd.read_csv(path)\n",
    "        df.read_bytes = df.read_bytes.str.split(\" \")\n",
    "    \n",
    "    # process data frame into usable format by breaking things \n",
    "    #like pwm_100: 140 into label and value\n",
    "    vals = []\n",
    "    label = []\n",
    "    for mem in df.read_bytes:\n",
    "        if len(mem) > 1:\n",
    "            label.append(mem[0])\n",
    "            vals.append(mem[1].split(\"\\r\")[0])\n",
    "\n",
    "    # Create dictionary that maps the unique labels to all their values\n",
    "    vals = np.array(vals).astype(float)\n",
    "    label = np.array(label)\n",
    "    dat = {}\n",
    "    # get the time by subsampling all recorded times by the number of labels\n",
    "    dat['time'] = np.array(df.time)[0:-1:len(set(label))]\n",
    "    \n",
    "    for l in set(label):\n",
    "        dat[l] = vals[label==l]\n",
    "    \n",
    "    # Convert that dictionary into a pandas data frame for ease of use\n",
    "    return pd.DataFrame.from_dict(dict([ (k,pd.Series(v)) for k,v in dat.items() ]))#.fillna(-1.0)"
   ]
  },
  {
   "cell_type": "markdown",
   "metadata": {},
   "source": [
    "#### Example"
   ]
  },
  {
   "cell_type": "code",
   "execution_count": 57,
   "metadata": {},
   "outputs": [],
   "source": [
    "path = base_path+\"arduino\"\n",
    "ard_slow = load_ard_data(path+\"/data/slow_dose/ard1655071123.6531866.csv\")\n",
    "ard_fast = load_ard_data(path+\"/data/fast_dose/ard1655311267.1804419.csv\")\n",
    "ard_pre = load_ard_data(path+\"/data/pre_beam/ard1654906400.557813.csv\")"
   ]
  },
  {
   "cell_type": "code",
   "execution_count": 98,
   "metadata": {},
   "outputs": [
    {
     "name": "stdout",
     "output_type": "stream",
     "text": [
      "Peak = 0.6629125408191016 FWHM =  6.900000000000034\n",
      "mean: 361.19794642375894 median: 359.0 std: 3.1187071375251336\n",
      "Peak = 0.6602718596356055 FWHM =  6.900000000000034\n",
      "mean: 361.2018626653854 median: 359.0 std: 3.1230695507993813\n",
      "Peak = 0.6611178921671919 FWHM =  6.900000000000034\n",
      "mean: 361.2014359470797 median: 359.0 std: 3.1237261287455063\n"
     ]
    },
    {
     "data": {
      "image/png": "[encoded data removed]",
      "text/plain": [
       "<Figure size 460.8x259.2 with 1 Axes>"
      ]
     },
     "metadata": {},
     "output_type": "display_data"
    },
    {
     "data": {
      "image/png": "[encoded data removed]",
      "text/plain": [
       "<Figure size 460.8x259.2 with 1 Axes>"
      ]
     },
     "metadata": {},
     "output_type": "display_data"
    },
    {
     "data": {
      "image/png": "[encoded data removed]",
      "text/plain": [
       "<Figure size 460.8x259.2 with 1 Axes>"
      ]
     },
     "metadata": {},
     "output_type": "display_data"
    },
    {
     "data": {
      "image/png": "[encoded data removed]",
      "text/plain": [
       "<Figure size 460.8x259.2 with 1 Axes>"
      ]
     },
     "metadata": {},
     "output_type": "display_data"
    }
   ],
   "source": [
    "plt.hist(ard_slow['pwm_150:'],bins=30);\n",
    "plt.hist(ard_fast['pwm_150:'],bins=30);\n",
    "plt.hist(ard_pre['pwm_150:'],bins=30);\n",
    "\n",
    "plt.figure()\n",
    "plt.hist(ard_slow['pwm_100:'],bins=30);\n",
    "plt.hist(ard_fast['pwm_100:'],bins=30);\n",
    "plt.hist(ard_pre['pwm_100:'],bins=30);\n",
    "\n",
    "plt.figure()\n",
    "smart_hist(ard_slow['pwm_100:'],bins=30,label=\"slow\",norm=True);\n",
    "smart_hist(ard_fast['pwm_100:'],bins=30,label=\"fast\",norm=True);\n",
    "smart_hist(ard_pre['pwm_100:'],bins=30,label=\"pre\",norm=True);\n",
    "\n",
    "plt.figure()\n",
    "plt.hist(ard_slow['pwm_50:'],bins=30);\n",
    "plt.hist(ard_fast['pwm_50:'],bins=30);\n",
    "plt.hist(ard_pre['pwm_50:'],bins=30);"
   ]
  },
  {
   "cell_type": "markdown",
   "metadata": {},
   "source": [
    "### Ethernet Switch"
   ]
  },
  {
   "cell_type": "code",
   "execution_count": null,
   "metadata": {},
   "outputs": [],
   "source": []
  }
 ],
 "metadata": {
  "interpreter": {
   "hash": "31f2aee4e71d21fbe5cf8b01ff0e069b9275f58929596ceb00d14d90e3e16cd6"
  },
  "kernelspec": {
   "display_name": "Python 3 (ipykernel)",
   "language": "python",
   "name": "python3"
  },
  "language_info": {
   "codemirror_mode": {
    "name": "ipython",
    "version": 3
   },
   "file_extension": ".py",
   "mimetype": "text/x-python",
   "name": "python",
   "nbconvert_exporter": "python",
   "pygments_lexer": "ipython3",
   "version": "3.8.12"
  },
  "toc": {
   "base_numbering": 1,
   "nav_menu": {},
   "number_sections": true,
   "sideBar": true,
   "skip_h1_title": true,
   "title_cell": "Table of Contents",
   "title_sidebar": "Contents",
   "toc_cell": false,
   "toc_position": {
    "height": "calc(100% - 180px)",
    "left": "10px",
    "top": "150px",
    "width": "428.8px"
   },
   "toc_section_display": true,
   "toc_window_display": true
  }
 },
 "nbformat": 4,
 "nbformat_minor": 2
}
