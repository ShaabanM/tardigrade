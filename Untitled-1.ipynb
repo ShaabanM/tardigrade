{
 "cells": [
  {
   "cell_type": "code",
   "execution_count": 121,
   "metadata": {},
   "outputs": [],
   "source": [
    "import os\n",
    "import sys\n",
    "import csv\n",
    "import time\n",
    "import json\n",
    "import psutil\n",
    "from datetime import datetime"
   ]
  },
  {
   "cell_type": "code",
   "execution_count": 122,
   "metadata": {},
   "outputs": [],
   "source": [
    "disks = psutil.disk_partitions()"
   ]
  },
  {
   "cell_type": "code",
   "execution_count": 8,
   "metadata": {},
   "outputs": [
    {
     "data": {
      "text/plain": [
       "'/dev/sdb'"
      ]
     },
     "execution_count": 8,
     "metadata": {},
     "output_type": "execute_result"
    }
   ],
   "source": [
    "disks[-1][0]"
   ]
  },
  {
   "cell_type": "code",
   "execution_count": 9,
   "metadata": {},
   "outputs": [
    {
     "data": {
      "text/plain": [
       "sdiskusage(total=1959055360, used=0, free=1959055360, percent=0.0)"
      ]
     },
     "execution_count": 9,
     "metadata": {},
     "output_type": "execute_result"
    }
   ],
   "source": [
    "psutil.disk_usage(disks[-1][0])"
   ]
  },
  {
   "cell_type": "code",
   "execution_count": 133,
   "metadata": {},
   "outputs": [
    {
     "data": {
      "text/plain": [
       "41.0"
      ]
     },
     "execution_count": 133,
     "metadata": {},
     "output_type": "execute_result"
    }
   ],
   "source": [
    "psutil.sensors_temperatures()[\"coretemp\"][0][1]"
   ]
  },
  {
   "cell_type": "code",
   "execution_count": 1,
   "metadata": {},
   "outputs": [],
   "source": [
    "from pySMART import Device"
   ]
  },
  {
   "cell_type": "code",
   "execution_count": 2,
   "metadata": {},
   "outputs": [],
   "source": [
    "sda = Device('/dev/sda2')\n",
    "sdb = Device('/dev/sdb')"
   ]
  },
  {
   "cell_type": "code",
   "execution_count": 24,
   "metadata": {},
   "outputs": [
    {
     "name": "stdout",
     "output_type": "stream",
     "text": [
      "ID# ATTRIBUTE_NAME          CUR WST THR TYPE     UPDATED WHEN_FAIL   RAW\n",
      "  5 Reallocated_Sector_Ct   100 100  10 Pre-fail Always  -           0\n",
      "  9 Power_On_Hours          099  99   0 Old_age  Always  -           2\n",
      " 12 Power_Cycle_Count       099  99   0 Old_age  Always  -           3\n",
      "177 Wear_Leveling_Count     100 100   0 Pre-fail Always  -           0\n",
      "179 Used_Rsvd_Blk_Cnt_Tot   100 100  10 Pre-fail Always  -           0\n",
      "181 Program_Fail_Cnt_Total  100 100  10 Old_age  Always  -           0\n",
      "182 Erase_Fail_Count_Total  100 100  10 Old_age  Always  -           0\n",
      "183 Runtime_Bad_Block       100 100  10 Pre-fail Always  -           0\n",
      "187 Reported_Uncorrect      100 100   0 Old_age  Always  -           0\n",
      "190 Airflow_Temperature_Cel 067  67   0 Old_age  Always  -           33\n",
      "195 Hardware_ECC_Recovered  200 200   0 Old_age  Always  -           0\n",
      "199 UDMA_CRC_Error_Count    100 100   0 Old_age  Always  -           0\n",
      "235 Unknown_Attribute       100 100   0 Old_age  Always  -           0\n",
      "241 Total_LBAs_Written      099  99   0 Old_age  Always  -           191593\n"
     ]
    }
   ],
   "source": [
    "sdb.all_attributes()"
   ]
  },
  {
   "cell_type": "code",
   "execution_count": 91,
   "metadata": {},
   "outputs": [
    {
     "data": {
      "text/plain": [
       "(2, 'No new self-test results found.', None)"
      ]
     },
     "execution_count": 91,
     "metadata": {},
     "output_type": "execute_result"
    }
   ],
   "source": [
    "sda.get_selftest_result()"
   ]
  },
  {
   "cell_type": "code",
   "execution_count": 94,
   "metadata": {},
   "outputs": [
    {
     "data": {
      "text/plain": [
       "['ID Test_Description Status                        Left Hours  1st_Error@LBA    ',\n",
       " ' 1 Short offline    Completed without error       00%  797    -                ',\n",
       " ' 2 Short offline    Completed without error       00%  797    -                ',\n",
       " ' 3 Short offline    Completed without error       00%  795    -                ',\n",
       " ' 4 Short offline    Completed without error       00%  795    -                ']"
      ]
     },
     "execution_count": 94,
     "metadata": {},
     "output_type": "execute_result"
    }
   ],
   "source": [
    "sda."
   ]
  },
  {
   "cell_type": "code",
   "execution_count": 119,
   "metadata": {},
   "outputs": [],
   "source": [
    "a = sdb.all_attributes(fn)"
   ]
  },
  {
   "cell_type": "code",
   "execution_count": 118,
   "metadata": {},
   "outputs": [],
   "source": [
    "def fn(s):\n",
    "    with open('out.txt', 'a',) as f:\n",
    "        print(\"\\n\",s, file=f)"
   ]
  },
  {
   "cell_type": "code",
   "execution_count": 105,
   "metadata": {},
   "outputs": [
    {
     "data": {
      "text/plain": [
       "NoneType"
      ]
     },
     "execution_count": 105,
     "metadata": {},
     "output_type": "execute_result"
    }
   ],
   "source": [
    "type(a)"
   ]
  },
  {
   "cell_type": "code",
   "execution_count": null,
   "metadata": {},
   "outputs": [],
   "source": []
  }
 ],
 "metadata": {
  "interpreter": {
   "hash": "31f2aee4e71d21fbe5cf8b01ff0e069b9275f58929596ceb00d14d90e3e16cd6"
  },
  "kernelspec": {
   "display_name": "Python 3",
   "language": "python",
   "name": "python3"
  },
  "language_info": {
   "codemirror_mode": {
    "name": "ipython",
    "version": 3
   },
   "file_extension": ".py",
   "mimetype": "text/x-python",
   "name": "python",
   "nbconvert_exporter": "python",
   "pygments_lexer": "ipython3",
   "version": "3.9.12"
  }
 },
 "nbformat": 4,
 "nbformat_minor": 2
}
